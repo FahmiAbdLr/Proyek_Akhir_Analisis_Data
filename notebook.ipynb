{
 "cells": [
  {
   "cell_type": "markdown",
   "metadata": {},
   "source": [
    "# **Proyek Analisis Data E-Commerce**"
   ]
  },
  {
   "cell_type": "markdown",
   "metadata": {},
   "source": [
    "- **Nama: Fahmi Abdul Salaam Luhtari**\n",
    "- **Email: fahmi3737@smk.belajar.id** \n",
    "- **Cohort ID: MS058D5Y0561** "
   ]
  },
  {
   "cell_type": "markdown",
   "metadata": {},
   "source": [
    "## **Menentukan Pertanyaan Bisnis**\n",
    "\n",
    "1. **Bagaimana performa penjualan dan revenue perusahaan dalam beberapa bulan terakhir?**\n",
    "2. **Bagaimana tingkat kepuasan pelanggan terhadap produk dalam beberapa bulan terakhir?**\n",
    "3. **Bagaimana demografi pelanggan perusahaan, seperti usia, jenis kelamin, dan lokasi geografis?**"
   ]
  },
  {
   "cell_type": "markdown",
   "metadata": {},
   "source": [
    "## **Install Semua Packages / Library Yang Akan Digunakan**\n",
    "\n",
    "```bash\n",
    "# Install dependency yang akan digunakan secara manual\n",
    "pip install numpy pandas matplotlib seaborn scipy streamlit\n",
    "\n",
    "# Install dependency yang akan digunakan melalui requirements.txt\n",
    "pip install -r requirements.txt"
   ]
  },
  {
   "cell_type": "markdown",
   "metadata": {},
   "source": [
    "## **Import Dependency Yang Akan Digunakan**\n"
   ]
  },
  {
   "cell_type": "code",
   "execution_count": 1,
   "metadata": {},
   "outputs": [],
   "source": [
    "import pandas as pd\n",
    "import numpy as np\n",
    "import matplotlib.pyplot as plt\n",
    "import matplotlib.ticker as mtc\n",
    "import seaborn as sns"
   ]
  },
  {
   "cell_type": "markdown",
   "metadata": {},
   "source": [
    "## **Data Wrangling**\n",
    "\n",
    "Pada tahap ini kita akan melakukan beberapa langkah, yaitu:\n",
    "1. **Mengumpulkan Data (Gathering Data)**\n",
    "2. **Menilai Data (Assessing Data)**\n",
    "3. **Membersihkan Data (Cleaning Data)**"
   ]
  },
  {
   "cell_type": "markdown",
   "metadata": {},
   "source": [
    "### **1. Gathering Data**\n",
    "Pada tahap ini kita akan mengumpulkan data yang diperlukan untuk proyek analisis data. Pada proyek kali ini data yang saya gunakan adalah data E-Commerce, yang memiliki total 9 dataset berformat CSV. Kode dibawah ini akan memuat dataset tersebut ke dalam dataframe pandas."
   ]
  },
  {
   "cell_type": "code",
   "execution_count": null,
   "metadata": {},
   "outputs": [],
   "source": [
    "# Customers DataFrame\n",
    "customers_df = pd.read_csv(\"./data/customers_dataset.csv\")\n",
    "customers_df.head()"
   ]
  },
  {
   "cell_type": "code",
   "execution_count": null,
   "metadata": {},
   "outputs": [],
   "source": [
    "# Geolocation DataFrame\n",
    "geolocation_df = pd.read_csv(\"./data/geolocation_dataset.csv\")\n",
    "geolocation_df.head()"
   ]
  },
  {
   "cell_type": "code",
   "execution_count": null,
   "metadata": {},
   "outputs": [],
   "source": [
    "# Order Items DataFrame\n",
    "order_items_df = pd.read_csv(\"./data/order_items_dataset.csv\")\n",
    "order_items_df.head()"
   ]
  },
  {
   "cell_type": "code",
   "execution_count": null,
   "metadata": {},
   "outputs": [],
   "source": [
    "# Order Payments DataFrame\n",
    "order_payments_df = pd.read_csv(\"./data/order_payments_dataset.csv\")\n",
    "order_payments_df.head()"
   ]
  },
  {
   "cell_type": "code",
   "execution_count": null,
   "metadata": {},
   "outputs": [],
   "source": [
    "# Order Reviews DataFrame\n",
    "order_reviews_df = pd.read_csv(\"./data/order_reviews_dataset.csv\")\n",
    "order_reviews_df.head()"
   ]
  },
  {
   "cell_type": "code",
   "execution_count": null,
   "metadata": {},
   "outputs": [],
   "source": [
    "# Orders DataFrame\n",
    "orders_df = pd.read_csv(\"./data/orders_dataset.csv\")\n",
    "orders_df.head()"
   ]
  },
  {
   "cell_type": "code",
   "execution_count": null,
   "metadata": {},
   "outputs": [],
   "source": [
    "# Product Category Name Translation Dataframe\n",
    "product_category_name_translation_df = pd.read_csv(\"./data/product_category_name_translation.csv\")\n",
    "product_category_name_translation_df.head()"
   ]
  },
  {
   "cell_type": "code",
   "execution_count": null,
   "metadata": {},
   "outputs": [],
   "source": [
    "# Products DataFrame\n",
    "products_df = pd.read_csv(\"./data/products_dataset.csv\")\n",
    "products_df.head()"
   ]
  },
  {
   "cell_type": "code",
   "execution_count": null,
   "metadata": {},
   "outputs": [],
   "source": [
    "# Sellers DataFrame\n",
    "sellers_df = pd.read_csv(\"./data/sellers_dataset.csv\")\n",
    "sellers_df.head()"
   ]
  },
  {
   "cell_type": "markdown",
   "metadata": {},
   "source": [
    "**Insight:**\n",
    "- Pada langkah ini dapat diketahui bahwa Data E-Commerce ini adalah data yang menggunakan Bahasa Latin / Brazil, bisa dilihat dari dataset **geolocation_dataset** terdapat nama kota yang menggunakan Bahasa Latin / Brazil seperti **São Paulo**, **Rio de Janeiro**, dll."
   ]
  },
  {
   "cell_type": "markdown",
   "metadata": {},
   "source": [
    "### **2. Assessing Data**\n",
    "Pada tahap ini kita akan melakukan penilaian terhadap data yang telah dikumpulkan. Penilaian ini bertujuan untuk mengetahui apakah data yang dikumpulkan sudah sesuai dengan kebutuhan analisis data. Ada beberapa langkah yang bisa dilakukan, seperti:\n",
    "- Melihat informasi dasar dataset.\n",
    "- Mengecek apakah ada missing value atau tidak.\n",
    "- Melihat statistik deskriptif dataset.\n",
    "- Mengecek apakah ada duplikasi data tau tidak."
   ]
  },
  {
   "cell_type": "code",
   "execution_count": null,
   "metadata": {},
   "outputs": [],
   "source": [
    "# Customers DataFrame\n",
    "\n",
    "customers_df.info()\n",
    "print(\"Jumlah duplikasi data: \", customers_df.duplicated().sum())\n",
    "customers_df.describe(include='all')\n",
    "\n",
    "# Aman"
   ]
  },
  {
   "cell_type": "code",
   "execution_count": null,
   "metadata": {},
   "outputs": [],
   "source": [
    "# Geolocation DataFrame\n",
    "\n",
    "geolocation_df.info()\n",
    "print(\"Jumlah duplikasi data: \", geolocation_df.duplicated().sum())\n",
    "print(geolocation_df[geolocation_df.duplicated()])\n",
    "geolocation_df.describe(include='all')\n",
    "\n",
    "# Aman\n"
   ]
  },
  {
   "cell_type": "code",
   "execution_count": null,
   "metadata": {},
   "outputs": [],
   "source": [
    "# Order Items DataFrame\n",
    "\n",
    "order_items_df.info()\n",
    "print(\"Jumlah duplikasi data: \", order_items_df.duplicated().sum())\n",
    "order_items_df.describe(include='all')\n",
    "\n",
    "# Perlu perubahan terhadap tipe data kolom shipping_limit_date, dari object menjadi datetime"
   ]
  },
  {
   "cell_type": "code",
   "execution_count": null,
   "metadata": {},
   "outputs": [],
   "source": [
    "# Order Payments DataFrame\n",
    "\n",
    "order_payments_df.info()\n",
    "print(\"Jumlah duplikasi data: \", order_payments_df.duplicated().sum())\n",
    "order_payments_df.describe(include='all')\n",
    "\n",
    "# Aman"
   ]
  },
  {
   "cell_type": "code",
   "execution_count": null,
   "metadata": {},
   "outputs": [],
   "source": [
    "# Order Reviews DataFrame\n",
    "\n",
    "order_reviews_df.info()\n",
    "print(\"Jumlah duplikasi data: \", order_reviews_df.duplicated().sum())\n",
    "order_reviews_df.describe(include='all')\n",
    "\n",
    "# Perlu perubahan terhadap tipe data kolom review_creation_date & reveiw_answer_timestamp, dari object menjadi datetime"
   ]
  },
  {
   "cell_type": "code",
   "execution_count": null,
   "metadata": {},
   "outputs": [],
   "source": [
    "# Orders DataFrame\n",
    "\n",
    "orders_df.info()\n",
    "print(\"Jumlah duplikasi data: \", orders_df.duplicated().sum())\n",
    "orders_df.describe(include='all')\n",
    "\n",
    "# Perlu perubahan terhadap tipe data kolom order_purchase_timestamp, order_approved_at, order_delivered_carrier_date, order_delivered_customer_date, order_estimated_delivery_date, dari object menjadi datetime\n",
    "# Menghapus 1 data yang tidak valid karena statusnya delivered tetapi tidak memiliki tanggal pengiriman dan tanggal penerimaan"
   ]
  },
  {
   "cell_type": "code",
   "execution_count": null,
   "metadata": {},
   "outputs": [],
   "source": [
    "# Product Category Name Translation\n",
    "\n",
    "product_category_name_translation_df.info()\n",
    "print(\"Jumlah duplikasi data: \", product_category_name_translation_df.duplicated().sum())\n",
    "product_category_name_translation_df.describe(include='all')\n",
    "\n",
    "# Aman"
   ]
  },
  {
   "cell_type": "code",
   "execution_count": null,
   "metadata": {},
   "outputs": [],
   "source": [
    "# Product DataFrame\n",
    "\n",
    "products_df.info()\n",
    "print(\"Jumlah duplikasi data: \", products_df.duplicated().sum())\n",
    "products_df.describe(include='all')\n",
    "\n",
    "# Menangani missing value\n",
    "# Mengecek outlier\n",
    "# Menyesuaikan tipe data agar lebih sesuai"
   ]
  },
  {
   "cell_type": "code",
   "execution_count": null,
   "metadata": {},
   "outputs": [],
   "source": [
    "# Sellers DataFrame\n",
    "\n",
    "sellers_df.info()\n",
    "print(\"Jumlah duplikasi data: \", sellers_df.duplicated().sum())\n",
    "sellers_df.describe(include='all')\n",
    "\n",
    "# Aman"
   ]
  },
  {
   "cell_type": "markdown",
   "metadata": {},
   "source": [
    "**Insight:**\n",
    "- Customer DataFrame: Aman\n",
    "- Geolocation DataFrame: Aman\n",
    "- Order Items DataFrame: \n",
    "    - Perlu perubahan terhadap tipe data kolom shipping_limit_date, dari object menjadi datetime\n",
    "- Order Payments DataFrame: Aman\n",
    "- Order Reviews DataFrame: \n",
    "    - Perlu perubahan terhadap tipe data kolom review_creation_date & reveiw_answer_timestamp, dari object menjadi datetime\n",
    "- Order DataFrame: \n",
    "    - Perlu perubahan terhadap tipe data kolom order_purchase_timestamp, order_approved_at, order_delivered_carrier_date, order_delivered_customer_date, order_estimated_delivery_date, dari object menjadi datetime\n",
    "    - Menghapus 1 data yang tidak valid karena statusnya delivered tetapi tidak memiliki tanggal pengiriman dan tanggal penerimaan\n",
    "- Product Category Name Translation DataFrame: Aman\n",
    "- Product DataFrame: \n",
    "    - Menangani missing value\n",
    "    - Menyesuaikan tipe data agar lebih sesuai\n",
    "- Sellers DataFrame: Aman"
   ]
  },
  {
   "cell_type": "markdown",
   "metadata": {},
   "source": [
    "### **3. Cleaning Data**\n",
    "Pada tahap ini, kita akan melakukan pembersihan data untuk memastikan kualitas data sebelum melakukan analisis lebih lanjut. Ada beberapa langkah yang bisa dilakukan, seperti:\n",
    "- Menangani missing value.\n",
    "- Merubah tipe data kolom agar lebih sesuai."
   ]
  },
  {
   "cell_type": "code",
   "execution_count": null,
   "metadata": {},
   "outputs": [],
   "source": [
    "# Order Items DataFrame\n",
    "\n",
    "order_items_df['shipping_limit_date'] = pd.to_datetime(order_items_df['shipping_limit_date'])\n",
    "order_items_df.info()"
   ]
  },
  {
   "cell_type": "code",
   "execution_count": null,
   "metadata": {},
   "outputs": [],
   "source": [
    "# Order Reviews DataFrame\n",
    "\n",
    "order_reviews_df['review_creation_date'] = pd.to_datetime(order_reviews_df['review_creation_date'])\n",
    "order_reviews_df['review_answer_timestamp'] = pd.to_datetime(order_reviews_df['review_answer_timestamp'])\n",
    "order_reviews_df.info()"
   ]
  },
  {
   "cell_type": "code",
   "execution_count": null,
   "metadata": {},
   "outputs": [],
   "source": [
    "# Orders DataFrame\n",
    "\n",
    "orders_df['order_purchase_timestamp'] = pd.to_datetime(orders_df['order_purchase_timestamp'])\n",
    "orders_df['order_approved_at'] = pd.to_datetime(orders_df['order_approved_at'])\n",
    "orders_df['order_delivered_carrier_date'] = pd.to_datetime(orders_df['order_delivered_carrier_date'])\n",
    "orders_df['order_delivered_customer_date'] = pd.to_datetime(orders_df['order_delivered_customer_date'])\n",
    "orders_df['order_estimated_delivery_date'] = pd.to_datetime(orders_df['order_estimated_delivery_date'])\n",
    "\n",
    "orders_df = orders_df.drop(orders_df[(orders_df['order_status'] == 'delivered') & (orders_df['order_delivered_customer_date'].isna())].index)\n",
    "print(orders_df['order_status'].value_counts())\n",
    "\n",
    "orders_df.info()"
   ]
  },
  {
   "cell_type": "code",
   "execution_count": null,
   "metadata": {},
   "outputs": [],
   "source": [
    "# Product DataFrame\n",
    "\n",
    "products_df['product_category_name'].fillna('unknows', inplace=True)\n",
    "num_cols = ['product_name_lenght', 'product_description_lenght', 'product_photos_qty', 'product_weight_g', 'product_length_cm', 'product_height_cm', 'product_width_cm']\n",
    "for col in num_cols:\n",
    "    products_df[col].fillna(products_df[col].median(), inplace=True)\n",
    "\n",
    "print(products_df.isna().sum())\n",
    "\n",
    "cols_to_int = ['product_name_lenght', 'product_description_lenght', 'product_photos_qty']\n",
    "for col in cols_to_int:\n",
    "    products_df[col] = products_df[col].astype('int64')\n",
    "    \n",
    "print(products_df.dtypes)"
   ]
  },
  {
   "cell_type": "markdown",
   "metadata": {},
   "source": [
    "**Insight:**\n",
    "- Order Items DataFrame: \n",
    "    - Perubahan terhadap tipe data kolom shipping_limit_date, yang awalnya bertipe object menjadi datetime, hal ini perlu dilakukan supaya data tetap baik dan konsisten\n",
    "- Order Reviews DataFrame: \n",
    "    - Perubahan terhadap tipe data kolom review_creation_date & reveiw_answer_timestamp, yang awalnya bertipe object menjadi datetime, hal ini perlu dilakukan supaya data tetap baik dan konsisten\n",
    "- Order DataFrame: \n",
    "    - Perubahan terhadap tipe data kolom order_purchase_timestamp, order_approved_at, order_delivered_carrier_date, order_delivered_customer_date, order_estimated_delivery_date, dari object menjadi datetime\n",
    "    - Menghapus 1 data yang tidak valid karena statusnya delivered tetapi tidak memiliki tanggal pengiriman dan tanggal penerimaan\n",
    "- Product DataFrame: \n",
    "    - Menangani missing value dengan cara: \n",
    "        - mengisi missing value menggunakan median agar data tetap realistis\n",
    "        - mengisi missing value pada product_category_name dengan unknown\n",
    "    - Menyesuaikan tipe data agar data lebih sesuai dan konsisten"
   ]
  },
  {
   "cell_type": "markdown",
   "metadata": {},
   "source": [
    "## **Exploratory Data Analysis (EDA)**\n",
    "\n",
    "Pada tahap ini kita akan melakukan Exploratory Data Analysis (EDA) untuk menggali lebih dalam pola, tren, dan hubungan antar variabel dalam dataset E-Commerce. Pada tahap EDA, kita akan fokus untuk menjawab tiga pertanyaan bisnis yang telah ditentukan:\n",
    "1. **Bagaimana performa penjualan dan revenue perusahaan dalam beberapa bulan terakhir?**\n",
    "2. **Bagaimana tingkat kepuasan pelanggan terhadap produk dan layanan dalam beberapa bulan terakhir?**\n",
    "3. **Bagaimana demografi pelanggan perusahaan, seperti lokasi state dan lokasi kota?**\n",
    "\n",
    "Untuk masing-masing pertanyaan, kita akan melakukan analisis terperinci menggunakan visualisasi data dan statistik deskriptif."
   ]
  },
  {
   "cell_type": "markdown",
   "metadata": {},
   "source": [
    "### **1. Bagaimana performa penjualan dan revenue perusahaan dalam beberapa bulan terakhir?**\n",
    "**Tujuan:**<br>\n",
    "Menganalisis tren jumlah pesanan dan pendapatan dalam beberapa bulan terakhir\n",
    "\n",
    "**Langkah Analisis:**<br>\n",
    "- Agregasi jumlah pesanan dan total revenue per bulan\n",
    "- Visualisasi tren penjualan dan revenue\n",
    "- Identifikasi bulan dengan performa terbaik dan terburuk"
   ]
  },
  {
   "cell_type": "code",
   "execution_count": null,
   "metadata": {},
   "outputs": [],
   "source": [
    "orders_delivered = orders_df[orders_df['order_status'] == 'delivered']\n",
    "\n",
    "orders_delivered['order_month'] = orders_delivered['order_purchase_timestamp'].dt.to_period('M')\n",
    "\n",
    "sales_per_month = orders_delivered.groupby('order_month').size().reset_index(name='total_orders')\n",
    "print(sales_per_month)\n",
    "\n",
    "revenue_df = orders_delivered.merge(order_payments_df, on='order_id', how='left')\n",
    "\n",
    "revenue_per_month = revenue_df.groupby('order_month')['payment_value'].sum().reset_index()\n",
    "print(revenue_per_month)"
   ]
  },
  {
   "cell_type": "code",
   "execution_count": null,
   "metadata": {},
   "outputs": [],
   "source": [
    "product_sales = order_items_df.groupby('product_id')['order_id'].count().reset_index()\n",
    "product_sales = product_sales.rename(columns={'order_id': 'total_sold'})\n",
    "product_sales = product_sales.sort_values(by='total_sold', ascending=False)\n",
    "\n",
    "most_sold_product = product_sales.iloc[0]\n",
    "\n",
    "product_sales = product_sales.merge(products_df[['product_id', 'product_category_name']], on='product_id', how='left')\n",
    "\n",
    "product_sales = product_sales.merge(product_category_name_translation_df, on='product_category_name', how='left')\n",
    "print(product_sales)\n"
   ]
  },
  {
   "cell_type": "markdown",
   "metadata": {},
   "source": [
    "**Insight:**<br>\n",
    "Bisa dilihat pada line chart yang dihasilkan di atas, bahwa jumlah penjualan semakin naik seiring berjalannya waktu, meskipun pada beberapa waktu mengalami penurunan yang tidak terlalu signifikan kemudian menjadi stabil kembali. Jumlah Pembelian terbanyak terjadi pada bulan November 2017. Begitu pula dengan jumlah pendapatan terbanyak terjadi pada bulan November 2017. Serta kategori product yang paling banyak terjual adalah kategori Furniture Decor."
   ]
  },
  {
   "cell_type": "markdown",
   "metadata": {},
   "source": [
    "### **2. Bagaimana tingkat kepuasan pelanggan terhadap produk dalam beberapa bulan terakhir?**\n",
    "**Tujuan:**<br>\n",
    "Menilai kepuasan pelanggan berdasarkan rating review produk\n",
    "\n",
    "**Langkah Analisis:**<br>\n",
    "- Analisis rata-rata review_score per bulan\n",
    "- Distribusi skor review (berapa banyak bintang 1, 2, 3, dst.)\n",
    "- Cek korelasi antara review_score dan keterlambatan pengiriman (apakah keterlambatan memengaruhi rating?)\n",
    "- Visualisasi tren kepuasan pelanggan"
   ]
  },
  {
   "cell_type": "code",
   "execution_count": null,
   "metadata": {},
   "outputs": [],
   "source": [
    "order_reviews_df.info()\n",
    "\n",
    "review_distribution = order_reviews_df['review_score'].value_counts().sort_index()\n",
    "print(review_distribution)\n",
    "\n",
    "print(order_reviews_df['review_creation_date'].min(), order_reviews_df['review_creation_date'].max())\n",
    "\n",
    "order_reviews_df['review_month'] = order_reviews_df['review_creation_date'].dt.to_period('M')\n",
    "\n",
    "avg_rating_per_month = order_reviews_df.groupby('review_month')['review_score'].mean().reset_index()\n",
    "print(avg_rating_per_month.head())\n",
    "\n",
    "order_reviews_df[order_reviews_df['review_score'] == 1]['review_comment_message'].dropna().sample(50)\n"
   ]
  },
  {
   "cell_type": "markdown",
   "metadata": {},
   "source": [
    "**Insight:**<br>\n",
    "Bisa dilihat pada bar chart yang dihasilkan di atas, mayoritas pelanggan memberikan rating yang memuaskan. Ini menunjukkan bahwa produk atau layanan yang ditawarkan sudah cukup baik dan memuaskan kebanyakan pelanggan. Berdasarkan grafik rata-rata rating per bulan, menunjukkan bahwa rata-rata rating selama kurang lebih 1 tahun stabil di sekitar 4,5. Namun, perlu diperhatikan bahwa ada beberapa pelanggan yang memberikan rating kurang memuaskan, yaitu sekitar 15.000 orang, sehingga sangat perlu diperhatikan untuk meningkatkan kualitas produk atau layanan."
   ]
  },
  {
   "cell_type": "markdown",
   "metadata": {},
   "source": [
    "### **3. Bagaimana demografi pelanggan perusahaan, seperti lokasi state dan lokasi kota?**\n",
    "**Tujuan:**<br>\n",
    "Menilai kepuasan pelanggan berdasarkan rating review produk\n",
    "\n",
    "**Langkah Analisis:**<br>\n",
    "- Analisis persebaran lokasi pelanggan berdasarkan state dan city\n",
    "- Visualisasi dalam bentuk bar chart / pie chart"
   ]
  },
  {
   "cell_type": "code",
   "execution_count": null,
   "metadata": {},
   "outputs": [],
   "source": [
    "customer_per_state = customers_df['customer_state'].value_counts()\n",
    "print(customer_per_state)\n",
    "\n",
    "customer_per_city = customers_df['customer_city'].value_counts().head(10)\n",
    "print(customer_per_city)\n",
    "\n",
    "revenue_per_state = orders_df.merge(order_payments_df, on='order_id').merge(customers_df, on='customer_id') \\\n",
    "    .groupby('customer_state')['payment_value'].sum().sort_values(ascending=False)\n",
    "\n",
    "print(revenue_per_state)"
   ]
  },
  {
   "cell_type": "markdown",
   "metadata": {},
   "source": [
    "**Insight:**<br>\n",
    "Bisa dilihat pada bar chart yang dihasilkan di atas, bahwa state dan kota yang memiliki jumlah pelanggan paling banyak beturut-turut adalah State of Sao Paulo (SP) dan kota Sao Paulo. Dengan hal ini pendapatan terbanyak berasal dari State of Sao Paulo (SP), khususnya kota Sao Paulo."
   ]
  },
  {
   "cell_type": "markdown",
   "metadata": {},
   "source": [
    "## **Data Visualization & Explanatory Analysis**\n",
    "\n",
    "Pada tahap ini kita akan menyajikan visualisasi yang lebih mendalam serta menganalisis temuan utama dari tahap EDA. Analisis ini bertujuan untuk Menampilkan hasil analisis dengan visualisasi yang mudah dipahami, supaya audeiens atau stakeholder(pemangku kepentingan) dapat memahami insight yang ditemukan."
   ]
  },
  {
   "cell_type": "markdown",
   "metadata": {},
   "source": [
    "### **1. Bagaimana performa penjualan dan revenue perusahaan dalam beberapa bulan terakhir?**"
   ]
  },
  {
   "cell_type": "code",
   "execution_count": null,
   "metadata": {},
   "outputs": [],
   "source": [
    "plt.figure(figsize=(12,5))\n",
    "plt.plot(sales_per_month['order_month'].astype(str), sales_per_month['total_orders'], marker='o', linestyle='-')\n",
    "plt.xticks(rotation=45)\n",
    "plt.title('Tren Jumlah Penjualan Per Bulan')\n",
    "plt.xlabel('Bulan')\n",
    "plt.ylabel('Total Orders')\n",
    "plt.grid()\n",
    "plt.show()\n",
    "\n",
    "plt.figure(figsize=(12,5))\n",
    "plt.plot(sales_per_month['order_month'].astype(str), revenue_per_month['payment_value'], marker='o', linestyle='-', color='red')\n",
    "plt.xticks(rotation=45)\n",
    "plt.title('Tren Revenue Per Bulan Dalam Brazilian Real (BRL)')\n",
    "plt.xlabel('Bulan')\n",
    "plt.ylabel('Total Revenue')\n",
    "plt.grid()\n",
    "plt.gca().yaxis.set_major_formatter(mtc.FuncFormatter(lambda x, _: f'{x:,.0f}'))\n",
    "plt.show()\n",
    "\n",
    "plt.figure(figsize=(12, 5))\n",
    "sns.barplot(x='total_sold', y='product_category_name_english', data=product_sales.head(10), palette='Blues_r')\n",
    "plt.xlabel(\"Jumlah Terjual\")\n",
    "plt.ylabel(\"Kategori Produk\")\n",
    "plt.title(\"10 Kategori Produk Terlaris\")\n",
    "plt.show()"
   ]
  },
  {
   "cell_type": "markdown",
   "metadata": {},
   "source": [
    "**Insight:**<br>\n",
    "- Jumlah penjualan terbanyak adalah pada bulan November 2017, dengan 7288 penjualan. Ini menunjukkan bahwa beberapa produk sangat populer di bulan tersebut\n",
    "- Jumlah penjualan terendah adalah pada bulan September dan Desember 2016, dengan hanya 1 penjualan.\n",
    "- Jumlah pendapatan terbanyak tentunya adalah pada bulan November 2017, dengan total 1.153.393.22 BRL pada bulan tersebut\n",
    "- Kategori produk yang paling banyak terjual adalah furniture decor"
   ]
  },
  {
   "cell_type": "markdown",
   "metadata": {},
   "source": [
    "### **2. Bagaimana tingkat kepuasan pelanggan terhadap produk dan layanan dalam beberapa bulan terakhir?**"
   ]
  },
  {
   "cell_type": "code",
   "execution_count": null,
   "metadata": {},
   "outputs": [],
   "source": [
    "plt.figure(figsize=(8,5))\n",
    "sns.barplot(x=review_distribution.index, y=review_distribution.values, palette='coolwarm')\n",
    "plt.xlabel('Review Score')\n",
    "plt.ylabel('Jumlah Ulasan')\n",
    "plt.title('Distribusi Rating Pelanggan')\n",
    "plt.grid()\n",
    "plt.show()\n",
    "\n",
    "plt.figure(figsize=(12,5))\n",
    "plt.bar(avg_rating_per_month['review_month'].astype(str), avg_rating_per_month['review_score'], color='blue', alpha=0.7)\n",
    "plt.xticks(rotation=45)\n",
    "plt.xlabel('Bulan')\n",
    "plt.ylabel('Rata-rata Rating')\n",
    "plt.title('Tren Rata-rata Rating Per Bulan')\n",
    "plt.grid(axis='y')\n",
    "plt.show()"
   ]
  },
  {
   "cell_type": "markdown",
   "metadata": {},
   "source": [
    "**Insight:**<br>\n",
    "- Sebanyak 57328 pengguna memberikan rating yang sempurna (5)\n",
    "- Rata-rata penilaian selama kurang lebih 1 tahun stabil berada di angka sekitar 4.5"
   ]
  },
  {
   "cell_type": "markdown",
   "metadata": {},
   "source": [
    "### **3. Bagaimana demografi pelanggan perusahaan, seperti lokasi state dan lokasi kota?**"
   ]
  },
  {
   "cell_type": "code",
   "execution_count": null,
   "metadata": {},
   "outputs": [],
   "source": [
    "plt.figure(figsize=(12, 6))\n",
    "sns.barplot(x=customer_per_state.index, y=customer_per_state.values, palette=\"viridis\")\n",
    "plt.xticks(rotation=45)\n",
    "plt.title('Sebaran Pelanggan Berdasarkan State')\n",
    "plt.xlabel('State')\n",
    "plt.ylabel('Jumlah Pelanggan')\n",
    "plt.grid(axis='y', linestyle='--', alpha=0.7)\n",
    "plt.show()\n",
    "\n",
    "plt.figure(figsize=(12, 6))\n",
    "sns.barplot(x=customer_per_state.index, y=revenue_per_state.values)\n",
    "plt.xticks(rotation=45)\n",
    "plt.title('Performa Penjualan Berdasarkan State Dalam Brazilian Real (BRL)')\n",
    "plt.xlabel('State')\n",
    "plt.ylabel('Jumlah Pendapatan')\n",
    "plt.grid(axis='y', linestyle='--', alpha=0.7)\n",
    "plt.gca().yaxis.set_major_formatter(mtc.FuncFormatter(lambda x, _: f'{x:,.0f}'))\n",
    "plt.show()\n",
    "\n",
    "plt.figure(figsize=(12, 6))\n",
    "sns.barplot(x=customer_per_city.index, y=customer_per_city.values, palette=\"coolwarm\")\n",
    "plt.xticks(rotation=45)\n",
    "plt.title('Top 10 Kota dengan Pelanggan Terbanyak')\n",
    "plt.xlabel('Kota')\n",
    "plt.ylabel('Jumlah Pelanggan')\n",
    "plt.xticks(rotation=45)\n",
    "plt.grid(axis='y', linestyle='--', alpha=0.7)\n",
    "plt.show()"
   ]
  },
  {
   "cell_type": "markdown",
   "metadata": {},
   "source": [
    "**Insight:**<br>\n",
    "- Pendapatan terbanyak berasal dari State of Sao Paulo, dengan total pendapatan 5.997.042.04 BRL\n",
    "- State dengan pelanggan terbanyak adalahState of São Paulo, dengan total 41746 pengguna\n",
    "- Kota dengan pelanggan terbanyak adalah Kota São Paulo, dengan total 15540 pengguna"
   ]
  },
  {
   "cell_type": "markdown",
   "metadata": {},
   "source": [
    "## **Conclusion dari Analisis Data E-Commerce**\n",
    "\n",
    "1. **Performa Penjualan & Revenue Perusahaan**\n",
    "    - Bulan November 2017 mencatat jumlah penjualan tertinggi, yaitu 7288 penjualan. Ini menunjukkan adanya lonjakan permintaan, kemungkinan akibat promosi atau event tertentu\n",
    "    - Sebaliknya, bulan September dan Desember 2016 memiliki penjualan terendah, hanya 1 transaksi, yang bisa mengindikasikan bahwa platform ini baru mulai beroperasi saat itu\n",
    "    - Pendapatan tertinggi juga terjadi pada bulan November 2017, dengan total pendapatan sebesar 1.153.393,22 BRL, yang sejalan dengan tingginya jumlah transaksi pada bulan tersebut\n",
    "    - Produk dalam kategori \"furniture decor\" adalah yang paling banyak terjual, yang bisa menunjukkan bahwa pelanggan e-commerce ini lebih cenderung membeli produk dekorasi rumah dibanding kategori lainnya\n",
    "\n",
    "2. **Kepuasan Pelanggan & Review Produk**\n",
    "    - Sebanyak 57.328 pengguna memberikan rating 5, yang berarti mayoritas pelanggan merasa puas dengan pengalaman belanja mereka\n",
    "    - Rata-rata rating selama satu tahun cukup stabil di angka sekitar 4.5, menunjukkan bahwa kualitas layanan dan produk secara umum cukup baik\n",
    "\n",
    "3. **Demografi Pelanggan & Wilayah Penjualan**\n",
    "    - Pendapatan terbanyak berasal dari State of São Paulo, dengan total pendapatan sebesar 5.997.042,04 BRL, menjadikannya wilayah dengan kontribusi terbesar terhadap revenue perusahaan\n",
    "    - State of São Paulo juga memiliki jumlah pelanggan terbanyak, dengan 41.746 pengguna\n",
    "    - Kota dengan pelanggan terbanyak adalah São Paulo, dengan 15.540 pengguna, yang menegaskan bahwa pusat aktivitas e-commerce ini berada di kota besar tersebut"
   ]
  },
  {
   "cell_type": "markdown",
   "metadata": {},
   "source": [
    "## **Kesimpulan Akhir & Rekomendasi Bisnis**\n",
    "- **Optimalisasi Penjualan di Bulan November**\n",
    "    - Mengingat bulan November memiliki penjualan dan pendapatan tertinggi, perusahaan bisa mengulang strategi promosi atau campaign yang sukses di bulan tersebut untuk meningkatkan penjualan pada bulan lainnya\n",
    "    \n",
    "- **Fokus pada Produk yang Laris**\n",
    "    - Karena kategori \"furniture decor\" paling laris, strategi pemasaran bisa difokuskan lebih banyak pada kategori ini untuk meningkatkan pendapatan lebih lanjut\n",
    "\n",
    "- **Menjaga Kepuasan Pelanggan**\n",
    "    - Dengan rating rata-rata stabil di 4.5, perusahaan perlu tetap mempertahankan layanan yang baik, kualitas produk yang tinggi, serta pengiriman yang tepat waktu untuk menjaga kepuasan pelanggan\n",
    "\n",
    "- **Memanfaatkan Wilayah dengan Permintaan Tinggi**\n",
    "    - State dan Kota São Paulo merupakan state dengan jumlah palanggan terbanyak, sehingga perusahaan bisa mempertimbangkan strategi pengiriman lebih cepat, gudang lokal, atau penawaran eksklusif bagi pelanggan di wilayah tersebut untuk meningkatkan loyalitas pelanggan"
   ]
  }
 ],
 "metadata": {
  "kernelspec": {
   "display_name": "venv",
   "language": "python",
   "name": "python3"
  },
  "language_info": {
   "codemirror_mode": {
    "name": "ipython",
    "version": 3
   },
   "file_extension": ".py",
   "mimetype": "text/x-python",
   "name": "python",
   "nbconvert_exporter": "python",
   "pygments_lexer": "ipython3",
   "version": "3.13.1"
  }
 },
 "nbformat": 4,
 "nbformat_minor": 2
}
